{
  "nbformat": 4,
  "nbformat_minor": 0,
  "metadata": {
    "colab": {
      "name": "Credit card fraud detection.ipynb",
      "provenance": [],
      "mount_file_id": "1gYLrauuREsxypFbvut8E-Ov_CtCW62dD",
      "authorship_tag": "ABX9TyOKOnFLdjQ0nquwLuXJKTSn",
      "include_colab_link": true
    },
    "kernelspec": {
      "name": "python3",
      "display_name": "Python 3"
    },
    "language_info": {
      "name": "python"
    }
  },
  "cells": [
    {
      "cell_type": "markdown",
      "metadata": {
        "id": "view-in-github",
        "colab_type": "text"
      },
      "source": [
        "<a href=\"https://colab.research.google.com/github/Priyabrat845/Machine-Learning/blob/main/Credit_card_fraud_detection.ipynb\" target=\"_parent\"><img src=\"https://colab.research.google.com/assets/colab-badge.svg\" alt=\"Open In Colab\"/></a>"
      ]
    },
    {
      "cell_type": "code",
      "metadata": {
        "id": "3BJSk3VUiisK"
      },
      "source": [
        "import pandas as pd\n",
        "import numpy as np\n",
        "import matplotlib.pyplot as plt\n",
        "import seaborn as sns\n",
        "\n",
        "from sklearn.model_selection import train_test_split\n",
        "from xgboost import XGBClassifier\n",
        "from sklearn.ensemble import RandomForestClassifier\n",
        "from sklearn.ensemble import GradientBoostingClassifier\n",
        "from sklearn.model_selection import GridSearchCV\n",
        "from sklearn.metrics import roc_auc_score, confusion_matrix, accuracy_score"
      ],
      "execution_count": 23,
      "outputs": []
    },
    {
      "cell_type": "code",
      "metadata": {
        "colab": {
          "base_uri": "https://localhost:8080/",
          "height": 224
        },
        "id": "j12Dm82vkH7T",
        "outputId": "2874ea84-a837-4519-adfb-8360be368d3c"
      },
      "source": [
        "data=pd.read_csv('/content/drive/MyDrive/Rough works/creditcard.csv')\n",
        "data.head()"
      ],
      "execution_count": 24,
      "outputs": [
        {
          "output_type": "execute_result",
          "data": {
            "text/html": [
              "<div>\n",
              "<style scoped>\n",
              "    .dataframe tbody tr th:only-of-type {\n",
              "        vertical-align: middle;\n",
              "    }\n",
              "\n",
              "    .dataframe tbody tr th {\n",
              "        vertical-align: top;\n",
              "    }\n",
              "\n",
              "    .dataframe thead th {\n",
              "        text-align: right;\n",
              "    }\n",
              "</style>\n",
              "<table border=\"1\" class=\"dataframe\">\n",
              "  <thead>\n",
              "    <tr style=\"text-align: right;\">\n",
              "      <th></th>\n",
              "      <th>V1</th>\n",
              "      <th>V2</th>\n",
              "      <th>V3</th>\n",
              "      <th>V4</th>\n",
              "      <th>V5</th>\n",
              "      <th>V6</th>\n",
              "      <th>V7</th>\n",
              "      <th>V8</th>\n",
              "      <th>V9</th>\n",
              "      <th>V10</th>\n",
              "      <th>V11</th>\n",
              "      <th>V12</th>\n",
              "      <th>V13</th>\n",
              "      <th>V14</th>\n",
              "      <th>V15</th>\n",
              "      <th>V16</th>\n",
              "      <th>V17</th>\n",
              "      <th>V18</th>\n",
              "      <th>V19</th>\n",
              "      <th>V20</th>\n",
              "      <th>V21</th>\n",
              "      <th>V22</th>\n",
              "      <th>V23</th>\n",
              "      <th>V24</th>\n",
              "      <th>V25</th>\n",
              "      <th>V26</th>\n",
              "      <th>V27</th>\n",
              "      <th>V28</th>\n",
              "      <th>V29</th>\n",
              "      <th>Target</th>\n",
              "    </tr>\n",
              "  </thead>\n",
              "  <tbody>\n",
              "    <tr>\n",
              "      <th>0</th>\n",
              "      <td>0.114697</td>\n",
              "      <td>0.796303</td>\n",
              "      <td>-0.149553</td>\n",
              "      <td>-0.823011</td>\n",
              "      <td>0.878763</td>\n",
              "      <td>-0.553152</td>\n",
              "      <td>0.939259</td>\n",
              "      <td>-0.108502</td>\n",
              "      <td>0.111137</td>\n",
              "      <td>-0.390521</td>\n",
              "      <td>-1.949546</td>\n",
              "      <td>-0.494436</td>\n",
              "      <td>-0.353696</td>\n",
              "      <td>0.158729</td>\n",
              "      <td>-0.267239</td>\n",
              "      <td>0.234802</td>\n",
              "      <td>-0.754936</td>\n",
              "      <td>-0.343012</td>\n",
              "      <td>0.312175</td>\n",
              "      <td>-0.042711</td>\n",
              "      <td>-0.335776</td>\n",
              "      <td>-0.807853</td>\n",
              "      <td>-0.055940</td>\n",
              "      <td>-1.025281</td>\n",
              "      <td>-0.369557</td>\n",
              "      <td>0.204653</td>\n",
              "      <td>0.242724</td>\n",
              "      <td>0.085713</td>\n",
              "      <td>0.89</td>\n",
              "      <td>0</td>\n",
              "    </tr>\n",
              "    <tr>\n",
              "      <th>1</th>\n",
              "      <td>-0.039318</td>\n",
              "      <td>0.495784</td>\n",
              "      <td>-0.810884</td>\n",
              "      <td>0.546693</td>\n",
              "      <td>1.986257</td>\n",
              "      <td>4.386342</td>\n",
              "      <td>-1.344891</td>\n",
              "      <td>-1.743736</td>\n",
              "      <td>-0.563103</td>\n",
              "      <td>-0.616315</td>\n",
              "      <td>-0.587786</td>\n",
              "      <td>0.317419</td>\n",
              "      <td>-0.408521</td>\n",
              "      <td>0.719639</td>\n",
              "      <td>0.226926</td>\n",
              "      <td>-0.296316</td>\n",
              "      <td>-0.040143</td>\n",
              "      <td>0.119177</td>\n",
              "      <td>1.057682</td>\n",
              "      <td>0.926255</td>\n",
              "      <td>-1.377003</td>\n",
              "      <td>-0.072200</td>\n",
              "      <td>-0.197573</td>\n",
              "      <td>1.014807</td>\n",
              "      <td>1.011293</td>\n",
              "      <td>-0.167684</td>\n",
              "      <td>0.113136</td>\n",
              "      <td>0.256836</td>\n",
              "      <td>85.00</td>\n",
              "      <td>0</td>\n",
              "    </tr>\n",
              "    <tr>\n",
              "      <th>2</th>\n",
              "      <td>2.275706</td>\n",
              "      <td>-1.531508</td>\n",
              "      <td>-1.021969</td>\n",
              "      <td>-1.602152</td>\n",
              "      <td>-1.220329</td>\n",
              "      <td>-0.462376</td>\n",
              "      <td>-1.196485</td>\n",
              "      <td>-0.147058</td>\n",
              "      <td>-0.950224</td>\n",
              "      <td>1.560463</td>\n",
              "      <td>-1.753256</td>\n",
              "      <td>-1.331010</td>\n",
              "      <td>-0.061941</td>\n",
              "      <td>-0.405532</td>\n",
              "      <td>0.048083</td>\n",
              "      <td>-0.307503</td>\n",
              "      <td>0.289363</td>\n",
              "      <td>0.189739</td>\n",
              "      <td>0.022546</td>\n",
              "      <td>-0.408289</td>\n",
              "      <td>-0.193271</td>\n",
              "      <td>-0.103533</td>\n",
              "      <td>0.150945</td>\n",
              "      <td>-0.811083</td>\n",
              "      <td>-0.197913</td>\n",
              "      <td>-0.128446</td>\n",
              "      <td>0.014197</td>\n",
              "      <td>-0.051289</td>\n",
              "      <td>42.70</td>\n",
              "      <td>0</td>\n",
              "    </tr>\n",
              "    <tr>\n",
              "      <th>3</th>\n",
              "      <td>1.940137</td>\n",
              "      <td>-0.357671</td>\n",
              "      <td>-1.210551</td>\n",
              "      <td>0.382523</td>\n",
              "      <td>0.050823</td>\n",
              "      <td>-0.171322</td>\n",
              "      <td>-0.109124</td>\n",
              "      <td>-0.002115</td>\n",
              "      <td>0.869258</td>\n",
              "      <td>-0.001965</td>\n",
              "      <td>0.607629</td>\n",
              "      <td>1.048673</td>\n",
              "      <td>-0.514821</td>\n",
              "      <td>0.329538</td>\n",
              "      <td>-1.041463</td>\n",
              "      <td>-0.498797</td>\n",
              "      <td>-0.276887</td>\n",
              "      <td>0.114245</td>\n",
              "      <td>0.379447</td>\n",
              "      <td>-0.199280</td>\n",
              "      <td>0.157994</td>\n",
              "      <td>0.650355</td>\n",
              "      <td>0.034206</td>\n",
              "      <td>0.739535</td>\n",
              "      <td>0.223605</td>\n",
              "      <td>-0.195509</td>\n",
              "      <td>-0.012791</td>\n",
              "      <td>-0.056841</td>\n",
              "      <td>29.99</td>\n",
              "      <td>0</td>\n",
              "    </tr>\n",
              "    <tr>\n",
              "      <th>4</th>\n",
              "      <td>1.081395</td>\n",
              "      <td>-0.502615</td>\n",
              "      <td>1.075887</td>\n",
              "      <td>-0.543359</td>\n",
              "      <td>-1.472946</td>\n",
              "      <td>-1.065484</td>\n",
              "      <td>-0.443231</td>\n",
              "      <td>-0.143374</td>\n",
              "      <td>1.659826</td>\n",
              "      <td>-1.131238</td>\n",
              "      <td>0.173132</td>\n",
              "      <td>1.430172</td>\n",
              "      <td>0.915609</td>\n",
              "      <td>-0.336588</td>\n",
              "      <td>1.140171</td>\n",
              "      <td>-0.653626</td>\n",
              "      <td>-0.016567</td>\n",
              "      <td>0.066287</td>\n",
              "      <td>0.242537</td>\n",
              "      <td>0.059880</td>\n",
              "      <td>0.224157</td>\n",
              "      <td>0.821209</td>\n",
              "      <td>-0.137223</td>\n",
              "      <td>0.986259</td>\n",
              "      <td>0.563228</td>\n",
              "      <td>-0.574206</td>\n",
              "      <td>0.089673</td>\n",
              "      <td>0.052036</td>\n",
              "      <td>68.00</td>\n",
              "      <td>0</td>\n",
              "    </tr>\n",
              "  </tbody>\n",
              "</table>\n",
              "</div>"
            ],
            "text/plain": [
              "         V1        V2        V3        V4  ...       V27       V28    V29  Target\n",
              "0  0.114697  0.796303 -0.149553 -0.823011  ...  0.242724  0.085713   0.89       0\n",
              "1 -0.039318  0.495784 -0.810884  0.546693  ...  0.113136  0.256836  85.00       0\n",
              "2  2.275706 -1.531508 -1.021969 -1.602152  ...  0.014197 -0.051289  42.70       0\n",
              "3  1.940137 -0.357671 -1.210551  0.382523  ... -0.012791 -0.056841  29.99       0\n",
              "4  1.081395 -0.502615  1.075887 -0.543359  ...  0.089673  0.052036  68.00       0\n",
              "\n",
              "[5 rows x 30 columns]"
            ]
          },
          "metadata": {
            "tags": []
          },
          "execution_count": 24
        }
      ]
    },
    {
      "cell_type": "code",
      "metadata": {
        "colab": {
          "base_uri": "https://localhost:8080/"
        },
        "id": "FQsZVLSxkH9r",
        "outputId": "073c8daf-9e6d-4f12-bd15-fce05a5b326c"
      },
      "source": [
        "data['Target'].value_counts()"
      ],
      "execution_count": 25,
      "outputs": [
        {
          "output_type": "execute_result",
          "data": {
            "text/plain": [
              "0    56864\n",
              "1       98\n",
              "Name: Target, dtype: int64"
            ]
          },
          "metadata": {
            "tags": []
          },
          "execution_count": 25
        }
      ]
    },
    {
      "cell_type": "code",
      "metadata": {
        "colab": {
          "base_uri": "https://localhost:8080/",
          "height": 333
        },
        "id": "mDle3CAUwcm8",
        "outputId": "98eeadb7-554b-4456-a7bb-8c68ee943330"
      },
      "source": [
        "# visualize the target variable\n",
        "#data['Target'].value_counts().plot(kind='bar')\n",
        "g = sns.countplot(data['Target'])\n",
        "g.set_xticklabels(['Not Fraud','Fraud'])\n",
        "plt.show()"
      ],
      "execution_count": 10,
      "outputs": [
        {
          "output_type": "stream",
          "text": [
            "/usr/local/lib/python3.7/dist-packages/seaborn/_decorators.py:43: FutureWarning: Pass the following variable as a keyword arg: x. From version 0.12, the only valid positional argument will be `data`, and passing other arguments without an explicit keyword will result in an error or misinterpretation.\n",
            "  FutureWarning\n"
          ],
          "name": "stderr"
        },
        {
          "output_type": "display_data",
          "data": {
            "image/png": "[encoded data removed]",
            "text/plain": [
              "<Figure size 432x288 with 1 Axes>"
            ]
          },
          "metadata": {
            "tags": [],
            "needs_background": "light"
          }
        }
      ]
    },
    {
      "cell_type": "markdown",
      "metadata": {
        "id": "WeY90tYO5MWo"
      },
      "source": [
        "**The Metric Trap:**\n",
        "\n",
        "One of the major issues when dealing with unbalanced datasets relates to the metrics used to evaluate their model. Using simpler metrics like accuracy score can be misleading. In a dataset with highly unbalanced classes, the classifier will always “predict” the most common class without performing any analysis of the features and it will have a high accuracy rate, obviously not the correct one.\n",
        "\n",
        "Let’s do this experiment, using simple XGBClassifier and no feature engineering:"
      ]
    },
    {
      "cell_type": "code",
      "metadata": {
        "id": "QdYXBnmUwcsy"
      },
      "source": [
        "# Creating the dataset with all independent variables\n",
        "X = data.drop('Target',axis=1)\n",
        "\n",
        "# Creating the dataset with the dependent variable\n",
        "Y = data['Target']"
      ],
      "execution_count": 26,
      "outputs": []
    },
    {
      "cell_type": "code",
      "metadata": {
        "id": "b87JXhgjwcvJ"
      },
      "source": [
        "# Splitting the dataset into the Training set and Test set\n",
        "X_train, X_test, Y_train, Y_test = train_test_split(X, Y, test_size = 0.2, random_state = 3)"
      ],
      "execution_count": 27,
      "outputs": []
    },
    {
      "cell_type": "code",
      "metadata": {
        "colab": {
          "base_uri": "https://localhost:8080/"
        },
        "id": "FrrUaXLokIDE",
        "outputId": "e51e4592-c449-4e24-8366-7e731176c11f"
      },
      "source": [
        "print(\"Distribution of classes of dependent variable in train :\")\n",
        "print(Y_train.value_counts())\n",
        "\n",
        "print(\"\\n Distribution of classes of dependent variable in test :\")\n",
        "print(Y_test.value_counts())"
      ],
      "execution_count": 28,
      "outputs": [
        {
          "output_type": "stream",
          "text": [
            "Distribution of classes of dependent variable in train :\n",
            "0    45492\n",
            "1       77\n",
            "Name: Target, dtype: int64\n",
            "\n",
            " Distribution of classes of dependent variable in test :\n",
            "0    11372\n",
            "1       21\n",
            "Name: Target, dtype: int64\n"
          ],
          "name": "stdout"
        }
      ]
    },
    {
      "cell_type": "code",
      "metadata": {
        "colab": {
          "base_uri": "https://localhost:8080/"
        },
        "id": "E4KsRlIt6n39",
        "outputId": "543ec37e-64f8-4316-f653-d600a651398d"
      },
      "source": [
        "from sklearn.neighbors import KNeighborsClassifier\n",
        "classifier=KNeighborsClassifier(n_neighbors = 5, metric = 'minkowski', p = 2) #Euclidian distance is a kind of minkowski distance with p=2\n",
        "classifier.fit(X_train,Y_train)"
      ],
      "execution_count": 29,
      "outputs": [
        {
          "output_type": "execute_result",
          "data": {
            "text/plain": [
              "KNeighborsClassifier(algorithm='auto', leaf_size=30, metric='minkowski',\n",
              "                     metric_params=None, n_jobs=None, n_neighbors=5, p=2,\n",
              "                     weights='uniform')"
            ]
          },
          "metadata": {
            "tags": []
          },
          "execution_count": 29
        }
      ]
    },
    {
      "cell_type": "code",
      "metadata": {
        "id": "97p2Z4w08S7L"
      },
      "source": [
        "y_pred=classifier.predict(X_test)"
      ],
      "execution_count": 30,
      "outputs": []
    },
    {
      "cell_type": "code",
      "metadata": {
        "colab": {
          "base_uri": "https://localhost:8080/"
        },
        "id": "lIzdNRym8S-Y",
        "outputId": "f8132b32-6be3-4232-8431-4cb3a7eaeb96"
      },
      "source": [
        "accuracy_score(y_pred,Y_test)"
      ],
      "execution_count": 31,
      "outputs": [
        {
          "output_type": "execute_result",
          "data": {
            "text/plain": [
              "0.9987711752830686"
            ]
          },
          "metadata": {
            "tags": []
          },
          "execution_count": 31
        }
      ]
    },
    {
      "cell_type": "code",
      "metadata": {
        "colab": {
          "base_uri": "https://localhost:8080/"
        },
        "id": "RrVmtyTD8TA-",
        "outputId": "44721026-a8b5-4a4b-a7ff-2a56b020d86a"
      },
      "source": [
        "confusion_matrix(y_pred,Y_test)"
      ],
      "execution_count": 32,
      "outputs": [
        {
          "output_type": "execute_result",
          "data": {
            "text/plain": [
              "array([[11371,    13],\n",
              "       [    1,     8]])"
            ]
          },
          "metadata": {
            "tags": []
          },
          "execution_count": 32
        }
      ]
    },
    {
      "cell_type": "code",
      "metadata": {
        "colab": {
          "base_uri": "https://localhost:8080/"
        },
        "id": "LYvzhUj48TDs",
        "outputId": "6d88c63a-3626-41ff-f802-b03ee4889d5a"
      },
      "source": [
        "roc_auc_score(y_pred,Y_test)"
      ],
      "execution_count": 33,
      "outputs": [
        {
          "output_type": "execute_result",
          "data": {
            "text/plain": [
              "0.9438734676348871"
            ]
          },
          "metadata": {
            "tags": []
          },
          "execution_count": 33
        }
      ]
    },
    {
      "cell_type": "code",
      "metadata": {
        "colab": {
          "base_uri": "https://localhost:8080/"
        },
        "id": "a5LmJ8x86n66",
        "outputId": "dcebd7f9-8907-4b08-a1ce-fd5df3776a10"
      },
      "source": [
        "# Class count\n",
        "class_count_0, class_count_1 = data['Target'].value_counts()\n",
        "\n",
        "# Separate class\n",
        "class_0 = data[data['Target'] == 0]\n",
        "class_1 = data[data['Target'] == 1]\n",
        "print('class 0:', class_0.shape)\n",
        "print('class 1:', class_1.shape)"
      ],
      "execution_count": 44,
      "outputs": [
        {
          "output_type": "stream",
          "text": [
            "class 0: (56864, 30)\n",
            "class 1: (98, 30)\n"
          ],
          "name": "stdout"
        }
      ]
    },
    {
      "cell_type": "markdown",
      "metadata": {
        "id": "LQosONoSZwa_"
      },
      "source": [
        "## **1. Random Under-Sampling**"
      ]
    },
    {
      "cell_type": "code",
      "metadata": {
        "id": "BU4bM3aU6n90"
      },
      "source": [
        "class_0_under = class_0.sample(class_count_1)\n",
        "test_under = pd.concat([class_0_under, class_1], axis=0)"
      ],
      "execution_count": 45,
      "outputs": []
    },
    {
      "cell_type": "code",
      "metadata": {
        "colab": {
          "base_uri": "https://localhost:8080/"
        },
        "id": "k7od-0JEZ3ds",
        "outputId": "96a2fff3-33e2-4f61-c068-2801435f8004"
      },
      "source": [
        "test_under['Target'].value_counts()"
      ],
      "execution_count": 47,
      "outputs": [
        {
          "output_type": "execute_result",
          "data": {
            "text/plain": [
              "1    98\n",
              "0    98\n",
              "Name: Target, dtype: int64"
            ]
          },
          "metadata": {
            "tags": []
          },
          "execution_count": 47
        }
      ]
    },
    {
      "cell_type": "code",
      "metadata": {
        "colab": {
          "base_uri": "https://localhost:8080/",
          "height": 279
        },
        "id": "absclZUhZ3ge",
        "outputId": "febab3eb-1587-423f-a801-4695ff8f51f1"
      },
      "source": [
        "test_under['Target'].value_counts().plot(kind='bar')"
      ],
      "execution_count": 48,
      "outputs": [
        {
          "output_type": "execute_result",
          "data": {
            "text/plain": [
              "<matplotlib.axes._subplots.AxesSubplot at 0x7f6a658ead10>"
            ]
          },
          "metadata": {
            "tags": []
          },
          "execution_count": 48
        },
        {
          "output_type": "display_data",
          "data": {
            "image/png": "[encoded data removed]",
            "text/plain": [
              "<Figure size 432x288 with 1 Axes>"
            ]
          },
          "metadata": {
            "tags": [],
            "needs_background": "light"
          }
        }
      ]
    },
    {
      "cell_type": "code",
      "metadata": {
        "colab": {
          "base_uri": "https://localhost:8080/"
        },
        "id": "EJss6EV2Z3i6",
        "outputId": "085a9e33-7930-424d-b960-9158be3f45bb"
      },
      "source": [
        "from imblearn.under_sampling import RandomUnderSampler\n",
        "\n",
        "rus = RandomUnderSampler(random_state=42, replacement=True)\n",
        "x_rus, y_rus = rus.fit_resample(data.iloc[:,0:-1], data['Target'])\n",
        "\n",
        "print('Original dataset shape:', len(data))\n",
        "print('Resampled dataset shape', len(y_rus))"
      ],
      "execution_count": 49,
      "outputs": [
        {
          "output_type": "stream",
          "text": [
            "Original dataset shape: 56962\n",
            "Resampled dataset shape 196\n"
          ],
          "name": "stdout"
        },
        {
          "output_type": "stream",
          "text": [
            "/usr/local/lib/python3.7/dist-packages/sklearn/externals/six.py:31: FutureWarning: The module is deprecated in version 0.21 and will be removed in version 0.23 since we've dropped support for Python 2.7. Please rely on the official version of six (https://pypi.org/project/six/).\n",
            "  \"(https://pypi.org/project/six/).\", FutureWarning)\n",
            "/usr/local/lib/python3.7/dist-packages/sklearn/utils/deprecation.py:144: FutureWarning: The sklearn.neighbors.base module is  deprecated in version 0.22 and will be removed in version 0.24. The corresponding classes / functions should instead be imported from sklearn.neighbors. Anything that cannot be imported from sklearn.neighbors is now part of the private API.\n",
            "  warnings.warn(message, FutureWarning)\n",
            "/usr/local/lib/python3.7/dist-packages/sklearn/utils/deprecation.py:87: FutureWarning: Function safe_indexing is deprecated; safe_indexing is deprecated in version 0.22 and will be removed in version 0.24.\n",
            "  warnings.warn(msg, category=FutureWarning)\n"
          ],
          "name": "stderr"
        }
      ]
    },
    {
      "cell_type": "code",
      "metadata": {
        "id": "26ceZNnsdEBj"
      },
      "source": [
        ""
      ],
      "execution_count": null,
      "outputs": []
    },
    {
      "cell_type": "markdown",
      "metadata": {
        "id": "y3td4Yzldrwl"
      },
      "source": [
        "## **2. Random Over-Sampling**"
      ]
    },
    {
      "cell_type": "code",
      "metadata": {
        "id": "JtNekaV-dEEe"
      },
      "source": [
        "class_1_over = class_1.sample(class_count_0, replace=True)\n",
        "test_over = pd.concat([class_1_over, class_0], axis=0)"
      ],
      "execution_count": 50,
      "outputs": []
    },
    {
      "cell_type": "code",
      "metadata": {
        "colab": {
          "base_uri": "https://localhost:8080/"
        },
        "id": "THXULLn-dEG3",
        "outputId": "f2c64d73-2d80-415c-928e-8f705ec93bf9"
      },
      "source": [
        "test_over['Target'].value_counts()"
      ],
      "execution_count": 51,
      "outputs": [
        {
          "output_type": "execute_result",
          "data": {
            "text/plain": [
              "1    56864\n",
              "0    56864\n",
              "Name: Target, dtype: int64"
            ]
          },
          "metadata": {
            "tags": []
          },
          "execution_count": 51
        }
      ]
    },
    {
      "cell_type": "code",
      "metadata": {
        "colab": {
          "base_uri": "https://localhost:8080/",
          "height": 279
        },
        "id": "QwZA2wCrd3mc",
        "outputId": "769e5afd-56a7-425b-d545-02fc152a357e"
      },
      "source": [
        "test_over['Target'].value_counts().plot(kind='bar')"
      ],
      "execution_count": 52,
      "outputs": [
        {
          "output_type": "execute_result",
          "data": {
            "text/plain": [
              "<matplotlib.axes._subplots.AxesSubplot at 0x7f6a64401510>"
            ]
          },
          "metadata": {
            "tags": []
          },
          "execution_count": 52
        },
        {
          "output_type": "display_data",
          "data": {
            "image/png": "[encoded data removed]",
            "text/plain": [
              "<Figure size 432x288 with 1 Axes>"
            ]
          },
          "metadata": {
            "tags": [],
            "needs_background": "light"
          }
        }
      ]
    },
    {
      "cell_type": "code",
      "metadata": {
        "colab": {
          "base_uri": "https://localhost:8080/"
        },
        "id": "D5hwpyNpd3sd",
        "outputId": "5aff21e7-832f-4d41-fd6f-fffc46cd72c5"
      },
      "source": [
        "from imblearn.over_sampling import RandomOverSampler\n",
        "\n",
        "ros = RandomOverSampler(random_state=42)\n",
        "x_ros, y_ros = ros.fit_resample(data.iloc[:,0:-1], data['Target'])\n",
        "\n",
        "print('Original dataset shape:', len(data))\n",
        "print('Resampled dataset shape', len(y_ros))"
      ],
      "execution_count": 53,
      "outputs": [
        {
          "output_type": "stream",
          "text": [
            "Original dataset shape: 56962\n",
            "Resampled dataset shape 113728\n"
          ],
          "name": "stdout"
        },
        {
          "output_type": "stream",
          "text": [
            "/usr/local/lib/python3.7/dist-packages/sklearn/utils/deprecation.py:87: FutureWarning: Function safe_indexing is deprecated; safe_indexing is deprecated in version 0.22 and will be removed in version 0.24.\n",
            "  warnings.warn(msg, category=FutureWarning)\n"
          ],
          "name": "stderr"
        }
      ]
    },
    {
      "cell_type": "markdown",
      "metadata": {
        "id": "aI33VC4govN5"
      },
      "source": [
        "## **3. Under-Sampling: Tomek links**"
      ]
    },
    {
      "cell_type": "code",
      "metadata": {
        "colab": {
          "base_uri": "https://localhost:8080/"
        },
        "id": "FLApW9Hwd3uj",
        "outputId": "aed72662-bacd-4544-ff25-687e6d5bdf84"
      },
      "source": [
        "from imblearn.under_sampling import TomekLinks\n",
        "\n",
        "tl = TomekLinks(ratio='majority')\n",
        "\n",
        "X_tl, y_tl = tl.fit_sample(data.iloc[:,0:-1], data['Target'])\n",
        "\n",
        "print('Original dataset shape:', len(data))\n",
        "print('Resampled dataset shape', len(y_tl))"
      ],
      "execution_count": 54,
      "outputs": [
        {
          "output_type": "stream",
          "text": [
            "Original dataset shape: 56962\n",
            "Resampled dataset shape 56955\n"
          ],
          "name": "stdout"
        },
        {
          "output_type": "stream",
          "text": [
            "/usr/local/lib/python3.7/dist-packages/sklearn/utils/deprecation.py:87: FutureWarning: Function safe_indexing is deprecated; safe_indexing is deprecated in version 0.22 and will be removed in version 0.24.\n",
            "  warnings.warn(msg, category=FutureWarning)\n"
          ],
          "name": "stderr"
        }
      ]
    },
    {
      "cell_type": "markdown",
      "metadata": {
        "id": "b5mbu5JUo-Xv"
      },
      "source": [
        "## 4. **Synthetic Minority Oversampling Technique (SMOTE)**"
      ]
    },
    {
      "cell_type": "code",
      "metadata": {
        "colab": {
          "base_uri": "https://localhost:8080/"
        },
        "id": "_aJVG8FaeKie",
        "outputId": "69b1b538-b5b4-4bbe-c960-97846f3dd629"
      },
      "source": [
        "from imblearn.over_sampling import SMOTE\n",
        "\n",
        "smote = SMOTE()\n",
        "\n",
        "# fit predictor and target variable\n",
        "x_smote, y_smote = smote.fit_resample(data.iloc[:,0:-1], data['Target'])\n",
        "\n",
        "print('Original dataset shape', len(data))\n",
        "print('Resampled dataset shape', len(y_smote))"
      ],
      "execution_count": 55,
      "outputs": [
        {
          "output_type": "stream",
          "text": [
            "/usr/local/lib/python3.7/dist-packages/sklearn/utils/deprecation.py:87: FutureWarning: Function safe_indexing is deprecated; safe_indexing is deprecated in version 0.22 and will be removed in version 0.24.\n",
            "  warnings.warn(msg, category=FutureWarning)\n"
          ],
          "name": "stderr"
        },
        {
          "output_type": "stream",
          "text": [
            "Original dataset shape 56962\n",
            "Resampled dataset shape 113728\n"
          ],
          "name": "stdout"
        }
      ]
    },
    {
      "cell_type": "markdown",
      "metadata": {
        "id": "ISz5Z8Nqy4iV"
      },
      "source": [
        "## **5. Penalize Algorithms (Cost-Sensitive Training)**"
      ]
    },
    {
      "cell_type": "code",
      "metadata": {
        "colab": {
          "base_uri": "https://localhost:8080/"
        },
        "id": "W-UrlpxXeKlW",
        "outputId": "f57314d3-5a4f-42ad-8047-822f39549b92"
      },
      "source": [
        "from sklearn.svm import SVC\n",
        "\n",
        "# we can add class_weight='balanced' to add penalize mistake\n",
        "svc_model = SVC(class_weight='balanced', probability=True)\n",
        "\n",
        "svc_model.fit(X_train, Y_train)\n",
        "\n",
        "svc_predict = svc_model.predict(X_test)\n",
        "print('ROCAUC score:',roc_auc_score(Y_test, svc_predict))\n",
        "print('Accuracy score:',accuracy_score(Y_test, svc_predict))"
      ],
      "execution_count": 56,
      "outputs": [
        {
          "output_type": "stream",
          "text": [
            "ROCAUC score: 0.9218443796794131\n",
            "Accuracy score: 0.986307381725621\n"
          ],
          "name": "stdout"
        }
      ]
    },
    {
      "cell_type": "markdown",
      "metadata": {
        "id": "bdsoYVJi3TDj"
      },
      "source": [
        "## **Let's use SMOTE + Deep Neural Network**"
      ]
    },
    {
      "cell_type": "code",
      "metadata": {
        "id": "Kun-1OcGeKn1"
      },
      "source": [
        "# Splitting the dataset into the Training set and Test set\n",
        "x_train, x_test, y_train, y_test = train_test_split(x_smote, y_smote, test_size = 0.2, random_state = 3)"
      ],
      "execution_count": 58,
      "outputs": []
    },
    {
      "cell_type": "code",
      "metadata": {
        "id": "RWQXv2LP0owi"
      },
      "source": [
        "# DNN\n",
        "from tensorflow import keras\n",
        "\n",
        "def get_model():\n",
        "    model = keras.Sequential([\n",
        "        keras.layers.Flatten(input_shape=[X_train.shape[-1]]),\n",
        "        keras.layers.Dense(512, activation='relu'),\n",
        "        keras.layers.Dense(256, activation='relu'),\n",
        "        keras.layers.Dense(128, activation='relu'),\n",
        "        keras.layers.Dense(64, activation='relu'),\n",
        "        keras.layers.Dense(32, activation='relu'),\n",
        "        keras.layers.Dropout(0.5),\n",
        "        keras.layers.Dense(9, activation='softmax')\n",
        "    ])\n",
        "    model.compile(optimizer='adam', \n",
        "                  loss='sparse_categorical_crossentropy',\n",
        "                  metrics=['accuracy'])\n",
        "    return model"
      ],
      "execution_count": 59,
      "outputs": []
    },
    {
      "cell_type": "code",
      "metadata": {
        "colab": {
          "base_uri": "https://localhost:8080/"
        },
        "id": "qEJslKNd0ozg",
        "outputId": "7c904cfd-15a7-434e-ccfb-a7b77eab73f1"
      },
      "source": [
        "# DNN (fit and validation)\n",
        "import tensorflow as tf\n",
        "\n",
        "batch_size = 512\n",
        "train_ds = tf.data.Dataset.from_tensor_slices((x_train, y_train)).shuffle(len(x_train)).batch(batch_size)\n",
        "val_ds = tf.data.Dataset.from_tensor_slices((x_test, y_test)).batch(batch_size)\n",
        "\n",
        "model = get_model()\n",
        "fit = model.fit(train_ds, validation_data=val_ds, epochs=20)"
      ],
      "execution_count": 60,
      "outputs": [
        {
          "output_type": "stream",
          "text": [
            "Epoch 1/20\n",
            "178/178 [==============================] - 5s 21ms/step - loss: 0.4821 - accuracy: 0.8888 - val_loss: 0.0303 - val_accuracy: 0.9913\n",
            "Epoch 2/20\n",
            "178/178 [==============================] - 4s 20ms/step - loss: 0.0819 - accuracy: 0.9815 - val_loss: 0.0457 - val_accuracy: 0.9926\n",
            "Epoch 3/20\n",
            "178/178 [==============================] - 4s 20ms/step - loss: 0.0505 - accuracy: 0.9863 - val_loss: 0.0250 - val_accuracy: 0.9892\n",
            "Epoch 4/20\n",
            "178/178 [==============================] - 4s 19ms/step - loss: 0.0390 - accuracy: 0.9895 - val_loss: 0.0216 - val_accuracy: 0.9904\n",
            "Epoch 5/20\n",
            "178/178 [==============================] - 4s 20ms/step - loss: 0.0344 - accuracy: 0.9904 - val_loss: 0.0184 - val_accuracy: 0.9942\n",
            "Epoch 6/20\n",
            "178/178 [==============================] - 4s 20ms/step - loss: 0.0379 - accuracy: 0.9902 - val_loss: 0.0124 - val_accuracy: 0.9966\n",
            "Epoch 7/20\n",
            "178/178 [==============================] - 4s 20ms/step - loss: 0.0182 - accuracy: 0.9942 - val_loss: 0.0155 - val_accuracy: 0.9966\n",
            "Epoch 8/20\n",
            "178/178 [==============================] - 4s 20ms/step - loss: 0.0284 - accuracy: 0.9916 - val_loss: 0.0125 - val_accuracy: 0.9961\n",
            "Epoch 9/20\n",
            "178/178 [==============================] - 3s 19ms/step - loss: 0.0531 - accuracy: 0.9830 - val_loss: 0.0255 - val_accuracy: 0.9874\n",
            "Epoch 10/20\n",
            "178/178 [==============================] - 4s 19ms/step - loss: 0.0235 - accuracy: 0.9912 - val_loss: 0.0130 - val_accuracy: 0.9967\n",
            "Epoch 11/20\n",
            "178/178 [==============================] - 3s 19ms/step - loss: 0.0219 - accuracy: 0.9931 - val_loss: 0.0696 - val_accuracy: 0.9704\n",
            "Epoch 12/20\n",
            "178/178 [==============================] - 4s 20ms/step - loss: 0.0220 - accuracy: 0.9913 - val_loss: 0.0097 - val_accuracy: 0.9984\n",
            "Epoch 13/20\n",
            "178/178 [==============================] - 3s 19ms/step - loss: 0.0151 - accuracy: 0.9945 - val_loss: 0.0132 - val_accuracy: 0.9972\n",
            "Epoch 14/20\n",
            "178/178 [==============================] - 3s 19ms/step - loss: 0.0253 - accuracy: 0.9925 - val_loss: 0.0256 - val_accuracy: 0.9944\n",
            "Epoch 15/20\n",
            "178/178 [==============================] - 4s 19ms/step - loss: 0.0147 - accuracy: 0.9952 - val_loss: 0.0098 - val_accuracy: 0.9987\n",
            "Epoch 16/20\n",
            "178/178 [==============================] - 3s 19ms/step - loss: 0.0171 - accuracy: 0.9954 - val_loss: 0.0253 - val_accuracy: 0.9913\n",
            "Epoch 17/20\n",
            "178/178 [==============================] - 3s 19ms/step - loss: 0.0227 - accuracy: 0.9925 - val_loss: 0.0126 - val_accuracy: 0.9937\n",
            "Epoch 18/20\n",
            "178/178 [==============================] - 4s 20ms/step - loss: 0.0097 - accuracy: 0.9969 - val_loss: 0.0060 - val_accuracy: 0.9992\n",
            "Epoch 19/20\n",
            "178/178 [==============================] - 4s 19ms/step - loss: 0.0153 - accuracy: 0.9953 - val_loss: 0.0083 - val_accuracy: 0.9989\n",
            "Epoch 20/20\n",
            "178/178 [==============================] - 3s 19ms/step - loss: 0.0096 - accuracy: 0.9968 - val_loss: 0.0065 - val_accuracy: 0.9989\n"
          ],
          "name": "stdout"
        }
      ]
    },
    {
      "cell_type": "code",
      "metadata": {
        "colab": {
          "base_uri": "https://localhost:8080/",
          "height": 265
        },
        "id": "kA0H7i5X0o3N",
        "outputId": "b12828ac-80a4-49d7-ea82-4d8c0d1870c8"
      },
      "source": [
        "import matplotlib.pyplot as plt\n",
        "\n",
        "plt.plot(fit.history['accuracy'], color='blue')\n",
        "plt.plot(fit.history['val_accuracy'], color='red')\n",
        "plt.show()"
      ],
      "execution_count": 61,
      "outputs": [
        {
          "output_type": "display_data",
          "data": {
            "image/png": "[encoded data removed]",
            "text/plain": [
              "<Figure size 432x288 with 1 Axes>"
            ]
          },
          "metadata": {
            "tags": [],
            "needs_background": "light"
          }
        }
      ]
    },
    {
      "cell_type": "code",
      "metadata": {
        "colab": {
          "base_uri": "https://localhost:8080/"
        },
        "id": "S0rn0ra3d3xZ",
        "outputId": "d676e859-ca1c-42c1-b397-027589929f3d"
      },
      "source": [
        "y_pred_nn = model.predict_classes(val_ds)"
      ],
      "execution_count": 62,
      "outputs": [
        {
          "output_type": "stream",
          "text": [
            "/usr/local/lib/python3.7/dist-packages/tensorflow/python/keras/engine/sequential.py:455: UserWarning: `model.predict_classes()` is deprecated and will be removed after 2021-01-01. Please use instead:* `np.argmax(model.predict(x), axis=-1)`,   if your model does multi-class classification   (e.g. if it uses a `softmax` last-layer activation).* `(model.predict(x) > 0.5).astype(\"int32\")`,   if your model does binary classification   (e.g. if it uses a `sigmoid` last-layer activation).\n",
            "  warnings.warn('`model.predict_classes()` is deprecated and '\n"
          ],
          "name": "stderr"
        }
      ]
    },
    {
      "cell_type": "code",
      "metadata": {
        "colab": {
          "base_uri": "https://localhost:8080/"
        },
        "id": "5-Dr3MSf4VDf",
        "outputId": "5e577f2d-4648-4695-d5f7-961ef659239f"
      },
      "source": [
        "print('ROCAUC score:', roc_auc_score(y_test, y_pred_nn))\n",
        "print('Accuracy score:', accuracy_score(y_test, y_pred_nn))"
      ],
      "execution_count": 63,
      "outputs": [
        {
          "output_type": "stream",
          "text": [
            "ROCAUC score: 0.998867891665941\n",
            "Accuracy score: 0.9988569418798909\n"
          ],
          "name": "stdout"
        }
      ]
    },
    {
      "cell_type": "markdown",
      "metadata": {
        "id": "m_m3Bq214ai4"
      },
      "source": [
        "Finally we have built the machine learning model that have a very high accuracy rate(99%), which is close to 100%."
      ]
    },
    {
      "cell_type": "code",
      "metadata": {
        "id": "vlQ-Jdzt5tIM"
      },
      "source": [
        ""
      ],
      "execution_count": null,
      "outputs": []
    }
  ]
}